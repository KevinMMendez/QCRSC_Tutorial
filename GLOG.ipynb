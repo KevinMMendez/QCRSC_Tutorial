{
 "cells": [
  {
   "cell_type": "markdown",
   "metadata": {},
   "source": [
    "# GLOG: calculate lambda\n",
    "\n"
   ]
  },
  {
   "cell_type": "markdown",
   "metadata": {},
   "source": [
    "---"
   ]
  },
  {
   "cell_type": "markdown",
   "metadata": {},
   "source": [
    "## 1. Import Packages"
   ]
  },
  {
   "cell_type": "code",
   "execution_count": null,
   "metadata": {
    "scrolled": true
   },
   "outputs": [],
   "source": [
    "import numpy as np\n",
    "import pandas as pd\n",
    "import matplotlib.pyplot as plt\n",
    "import seaborn as sns\n",
    "import scipy.optimize\n",
    "import qcrsc   \n",
    "\n",
    "print('All packages successfully loaded')\n",
    "\n",
    "# Remove later\n",
    "%load_ext autoreload\n",
    "%autoreload 2"
   ]
  },
  {
   "cell_type": "markdown",
   "metadata": {},
   "source": [
    "## 2. Load Data"
   ]
  },
  {
   "cell_type": "code",
   "execution_count": null,
   "metadata": {
    "scrolled": true
   },
   "outputs": [],
   "source": [
    "home = 'data/'\n",
    "file = 'MTBLS290.xlsx' \n",
    "\n",
    "DataTable, PeakTable = qcrsc.load_dataXL(home + file,'Data','Peak')"
   ]
  },
  {
   "cell_type": "markdown",
   "metadata": {},
   "source": [
    "## 3. Extract X"
   ]
  },
  {
   "cell_type": "code",
   "execution_count": null,
   "metadata": {},
   "outputs": [],
   "source": [
    "peaklist = PeakTable.Name\n",
    "x = DataTable.loc[:, peaklist]\n",
    "xqc = x[DataTable.SampleType == 'QC']\n",
    "\n",
    "xqc = np.array(xqc)"
   ]
  },
  {
   "cell_type": "markdown",
   "metadata": {},
   "source": [
    "## 4. Plot variance vs. mean"
   ]
  },
  {
   "cell_type": "code",
   "execution_count": null,
   "metadata": {
    "scrolled": false
   },
   "outputs": [],
   "source": [
    "var = np.var(xqc, axis=0)\n",
    "mean = np.mean(xqc, axis=0)\n",
    "\n",
    "# Put into pd df for seaborn\n",
    "d = {'var':var, 'mean':mean}\n",
    "df = pd.DataFrame(d)\n",
    "\n",
    "sns.scatterplot(x=\"mean\", y=\"var\", data=df) # 1534 peaks"
   ]
  },
  {
   "cell_type": "markdown",
   "metadata": {},
   "source": [
    "## 5. Optimisation of Lambda\n",
    "\n",
    "Based on Matlab code from the following publication:\n",
    "https://bmcbioinformatics.biomedcentral.com/articles/10.1186/1471-2105-8-234#MOESM2\n",
    "\n",
    "Improved classification accuracy in 1- and 2-dimensional NMR metabolomics data using the variance stabilising generalised logarithm transformation\n",
    "\n",
    "Helen M Parsons, Christian Ludwig, Ulrich L Günther & Mark R Viant\n"
   ]
  },
  {
   "cell_type": "code",
   "execution_count": null,
   "metadata": {},
   "outputs": [],
   "source": [
    "## FUNCTIONS ##\n",
    "\n",
    "def glog(x, lambda0):\n",
    "    \"glog transformation\"\n",
    "    y = np.log(x + np.sqrt(x ** 2 + lambda0))\n",
    "    return y\n",
    "\n",
    "def jglog(x, lambda0):\n",
    "    \"\"\"\n",
    "    Rescale variables using Jacobian: w = J*z\n",
    "    Note slight difference in format to Durbin paper - makes eqn computational\n",
    "    (has extra multiplicative term only; moving minimum up)\n",
    "    \"\"\"\n",
    "    z = glog(x, lambda0)\n",
    "    gmn = np.exp(np.mean(np.log(np.sqrt(x ** 2 + lambda0)), axis=1))\n",
    "    zj = np.array(z.T * gmn).T\n",
    "    return zj, gmn\n",
    "\n",
    "def SSE(lambda0, x):\n",
    "    \"Calculate SSE\"\n",
    "    L = len(x.T) # Num of mets (QCs)\n",
    "    N = len(x) # Num of samples (QCs)\n",
    "\n",
    "    z = jglog(x, lambda0)[0]\n",
    "    grand_mean = np.mean(z)\n",
    "    mean_spec = np.mean(z, axis=0)\n",
    "\n",
    "    s = 0\n",
    "    for i in range(N):\n",
    "        row_mean = np.mean(z[i,:]) # Mean per sample\n",
    "        for j in range(L):\n",
    "            col_mean = np.mean(z[:,j]) # Mean per metabolite\n",
    "            s = s + (z[i,j] - mean_spec[j]) ** 2\n",
    "    return s\n"
   ]
  },
  {
   "cell_type": "code",
   "execution_count": null,
   "metadata": {},
   "outputs": [],
   "source": [
    "## Determine optimal lambda ##\n",
    "\n",
    "\n",
    "# Replace nans with metabolite means ?\n",
    "# xqc = np.where(np.isnan(xqc), np.ma.array(xqc, mask = np.isnan(xqc)).mean(axis = 0), xqc)    \n",
    "\n",
    "# Find starting point (Durbin & Rocke, 2003)\n",
    "Lm = np.median(xqc_nonan, axis=0)\n",
    "Lm = np.median(Lm)\n",
    "lambda0 = Lm**2\n",
    "\n",
    "# Options: uses fminsearch\n",
    "TolX = 1e-16\n",
    "TolFun = 1e-15\n",
    "MaxFunEvals =  1e3\n",
    "MaxIter = 1e3\n",
    "\n",
    "# Build model\n",
    "opt_lambda = scipy.optimize.fmin(SSE,\n",
    "                                 lambda0,\n",
    "                                 args=(xqc,),\n",
    "                                 xtol=TolX, \n",
    "                                 ftol=TolFun,\n",
    "                                 maxiter=MaxIter,\n",
    "                                 maxfun=MaxFunEvals)\n",
    "opt_lambda = opt_lambda[0]\n",
    "\n",
    "print(\"Optimal lambda is: {}\".format(opt_lambda))\n"
   ]
  },
  {
   "cell_type": "code",
   "execution_count": null,
   "metadata": {},
   "outputs": [],
   "source": [
    "## Use optimal lambda\n",
    "\n",
    "x_glog = glog(x, opt_lambda)"
   ]
  },
  {
   "cell_type": "code",
   "execution_count": null,
   "metadata": {},
   "outputs": [],
   "source": []
  },
  {
   "cell_type": "code",
   "execution_count": null,
   "metadata": {},
   "outputs": [],
   "source": []
  },
  {
   "cell_type": "code",
   "execution_count": null,
   "metadata": {},
   "outputs": [],
   "source": []
  }
 ],
 "metadata": {
  "kernelspec": {
   "display_name": "Python 3",
   "language": "python",
   "name": "python3"
  },
  "language_info": {
   "codemirror_mode": {
    "name": "ipython",
    "version": 3
   },
   "file_extension": ".py",
   "mimetype": "text/x-python",
   "name": "python",
   "nbconvert_exporter": "python",
   "pygments_lexer": "ipython3",
   "version": "3.7.3"
  }
 },
 "nbformat": 4,
 "nbformat_minor": 4
}
